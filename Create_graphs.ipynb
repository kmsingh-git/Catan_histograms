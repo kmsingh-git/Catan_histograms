{
 "cells": [
  {
   "cell_type": "markdown",
   "metadata": {},
   "source": [
    "## Boilerplate"
   ]
  },
  {
   "cell_type": "code",
   "execution_count": 1,
   "metadata": {},
   "outputs": [],
   "source": [
    "import plotly.graph_objects as go\n",
    "import random"
   ]
  },
  {
   "cell_type": "code",
   "execution_count": 17,
   "metadata": {},
   "outputs": [],
   "source": [
    "def make_graph(x, y, yaxis_title=\"Counts\", title=None):\n",
    "    \n",
    "    title = title or f\"Sample histogram (Total Count = {sum(y):,})\"\n",
    "    \n",
    "    fig = go.Figure(data=[go.Bar(\n",
    "        x=x,\n",
    "        y=y,\n",
    "        text=y,\n",
    "        textposition='inside',\n",
    "        opacity=0.75,\n",
    "        marker={\n",
    "            'line':{\n",
    "                'color': 'white',\n",
    "                'width' : 1\n",
    "            },\n",
    "            'color' : '#b7410e'\n",
    "        }\n",
    "    )])\n",
    "\n",
    "    fig.update_layout(\n",
    "        bargap=0,\n",
    "        xaxis=dict(\n",
    "            tickmode='linear'\n",
    "        ),\n",
    "        xaxis_title=\"Sum of dice\",\n",
    "\n",
    "        yaxis=dict(\n",
    "    #         showticklabels=False\n",
    "            showgrid=False\n",
    "        ),\n",
    "        yaxis_title=yaxis_title,\n",
    "\n",
    "        title=title,\n",
    "\n",
    "    #     paper_bgcolor='#F5F5DC',\n",
    "        plot_bgcolor='#F5F5DC',\n",
    "\n",
    "        width=850,\n",
    "        height=600,\n",
    "        margin=dict(\n",
    "            l=10,\n",
    "            t=50,\n",
    "            b=10\n",
    "        )\n",
    "    )\n",
    "\n",
    "    return fig"
   ]
  },
  {
   "cell_type": "markdown",
   "metadata": {},
   "source": [
    "Counts"
   ]
  },
  {
   "cell_type": "code",
   "execution_count": 20,
   "metadata": {},
   "outputs": [],
   "source": [
    "def make_hist_dice(n):\n",
    "    x = list(range(2, 13))\n",
    "    y = 11*[0]\n",
    "    for _ in range(n):\n",
    "        d1 = random.randint(1, 6)\n",
    "        d2 = random.randint(1, 6)\n",
    "        sum_dice = d1 + d2\n",
    "        y[sum_dice-2] += 1\n",
    "\n",
    "    return make_graph(x, y, title=f\"Simulation of {n:,} rolls\")"
   ]
  },
  {
   "cell_type": "markdown",
   "metadata": {},
   "source": [
    "Average"
   ]
  },
  {
   "cell_type": "code",
   "execution_count": 22,
   "metadata": {},
   "outputs": [],
   "source": [
    "def make_hist_average_dice(n):\n",
    "    x = list(range(2, 13))\n",
    "    y = 11*[0]\n",
    "    for _ in range(n):\n",
    "        d1 = random.randint(1, 6)\n",
    "        d2 = random.randint(1, 6)\n",
    "        sum_dice = d1 + d2\n",
    "        y[sum_dice-2] += 1\n",
    "    \n",
    "    y = [i/n for i in y]\n",
    "\n",
    "    return make_graph(x, y, yaxis_title=\"Average value\", title=f\"Simulation of {n:,} rolls\")"
   ]
  },
  {
   "cell_type": "markdown",
   "metadata": {},
   "source": [
    "Central Limit Theorem"
   ]
  },
  {
   "cell_type": "code",
   "execution_count": 33,
   "metadata": {},
   "outputs": [],
   "source": [
    "def simulate_multiple_dice(num_dice, sample_size):\n",
    "    x = list(range(2, 6*num_dice + 1))\n",
    "    y = len(x)*[0]\n",
    "    \n",
    "    for _ in range(sample_size):\n",
    "        dice_sum = 0\n",
    "        for _ in range(num_dice):\n",
    "            dice_sum += random.randint(1, 6)\n",
    "        \n",
    "        y[dice_sum-2] += 1\n",
    "    \n",
    "    return make_graph(x, y, yaxis_title=\"Count\", title=f\"Simulation of sum of {num_dice} dice over {sample_size} rolls\")"
   ]
  },
  {
   "cell_type": "code",
   "execution_count": 5,
   "metadata": {},
   "outputs": [],
   "source": [
    "FORMATS = ['png', 'jpeg']"
   ]
  },
  {
   "cell_type": "markdown",
   "metadata": {},
   "source": [
    "## Generating the actual plots"
   ]
  },
  {
   "cell_type": "markdown",
   "metadata": {},
   "source": [
    "#### Sample / Dummy histogram"
   ]
  },
  {
   "cell_type": "code",
   "execution_count": 8,
   "metadata": {},
   "outputs": [],
   "source": [
    "x = list(range(2, 13))\n",
    "fake_counts = [1, 3, 0, 4, 4, 10, 8, 7, 3, 8, 2]\n",
    "fig = make_graph(x, fake_counts)\n",
    "\n",
    "for frmt in FORMATS:\n",
    "    fig.write_image(f\"Graphs/sample_histogram.{frmt}\")"
   ]
  },
  {
   "cell_type": "markdown",
   "metadata": {},
   "source": [
    "#### Simulation (count)"
   ]
  },
  {
   "cell_type": "code",
   "execution_count": 21,
   "metadata": {},
   "outputs": [],
   "source": [
    "for total_rolls in [500, 5000, 50000, 500000]:\n",
    "    fig = make_hist_dice(total_rolls)\n",
    "    for frmt in FORMATS:\n",
    "        fig.write_image(f\"Graphs/histogram_dice_{total_rolls}.{frmt}\")"
   ]
  },
  {
   "cell_type": "markdown",
   "metadata": {},
   "source": [
    "#### Simulation (average)"
   ]
  },
  {
   "cell_type": "code",
   "execution_count": 25,
   "metadata": {},
   "outputs": [],
   "source": [
    "for frmt in FORMATS:\n",
    "    make_hist_average_dice(50000).write_image(f\"Graphs/histogram_dice_average_{total_rolls}.{frmt}\")"
   ]
  },
  {
   "cell_type": "markdown",
   "metadata": {},
   "source": [
    "#### Central Limit Theorem"
   ]
  },
  {
   "cell_type": "code",
   "execution_count": 42,
   "metadata": {},
   "outputs": [],
   "source": [
    "simulate_multiple_dice(5, 50000).write_image(f\"Graphs/bell_curve_5dice_50000rolls.jpg\")"
   ]
  }
 ],
 "metadata": {
  "kernelspec": {
   "display_name": "venv",
   "language": "python",
   "name": "venv"
  },
  "language_info": {
   "codemirror_mode": {
    "name": "ipython",
    "version": 3
   },
   "file_extension": ".py",
   "mimetype": "text/x-python",
   "name": "python",
   "nbconvert_exporter": "python",
   "pygments_lexer": "ipython3",
   "version": "3.9.5"
  }
 },
 "nbformat": 4,
 "nbformat_minor": 5
}
